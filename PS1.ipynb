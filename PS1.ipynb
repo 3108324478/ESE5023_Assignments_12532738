{
 "cells": [
  {
   "cell_type": "code",
   "execution_count": 27,
   "id": "3c237f7f-4540-4415-9158-e16cfa1feb9e",
   "metadata": {},
   "outputs": [
    {
     "name": "stdin",
     "output_type": "stream",
     "text": [
      "请输入a： 5\n",
      "请输入b： 15\n",
      "请输入c： 10\n"
     ]
    },
    {
     "name": "stdout",
     "output_type": "stream",
     "text": [
      "无输出\n"
     ]
    }
   ],
   "source": [
    "# homework1\n",
    "a = float(input(\"请输入a：\"))\n",
    "b = float(input(\"请输入b：\"))\n",
    "c = float(input(\"请输入c：\"))\n",
    "def Print_values(a,b,c):\n",
    "    if a>b:\n",
    "        if b>c:\n",
    "            print(a+b-10*c)\n",
    "        else:\n",
    "            if a>c:\n",
    "                print(a+c-10*b)\n",
    "            else:\n",
    "                print(c+a-10*b)\n",
    "    else:\n",
    "        if b >c:\n",
    "            print(\"无输出\")\n",
    "        else:\n",
    "            print(c+b-10*a)\n",
    "Print_values(a,b,c)"
   ]
  },
  {
   "cell_type": "code",
   "execution_count": 28,
   "id": "e9b2080b-ae9b-438b-bb5d-fb6975f3dd1f",
   "metadata": {},
   "outputs": [
    {
     "name": "stdin",
     "output_type": "stream",
     "text": [
      "请输入正整数，用空格分开： 1 2 3 4 5 6 7 8 9 10\n"
     ]
    },
    {
     "name": "stdout",
     "output_type": "stream",
     "text": [
      "你输入的正整数数列为:[1, 2, 3, 4, 5, 6, 7, 8, 9, 10]\n",
      "结果为:{1: 1, 2: 5, 3: 7, 4: 13, 5: 15, 6: 17, 7: 21, 8: 23, 9: 25, 10: 33}\n"
     ]
    }
   ],
   "source": [
    "# homework2\n",
    "import math\n",
    "result = {1:1}\n",
    "num_list = []\n",
    "def F(x):\n",
    "    if x in result:\n",
    "        return result[x]\n",
    "    y = F(math.ceil(x / 3)) + 2 * x\n",
    "    result[x] = y\n",
    "    return y\n",
    "l = input(\"请输入正整数，用空格分开：\").split()\n",
    "for i in l:\n",
    "    num = int(i)\n",
    "    num_list.append(num)\n",
    "ceil={}\n",
    "for i in num_list:\n",
    "    ceil[i] = F(i)\n",
    "print(\"你输入的正整数数列为:{}\".format(num_list))\n",
    "print(\"结果为:{}\".format(ceil))"
   ]
  },
  {
   "cell_type": "code",
   "execution_count": 29,
   "id": "3efac062-2a67-42b6-9654-95300260b48e",
   "metadata": {},
   "outputs": [
    {
     "name": "stdout",
     "output_type": "stream",
     "text": [
      "当合为35时产生Number_of_ways的最大值,最大值为4395456\n"
     ]
    }
   ],
   "source": [
    "# homework3\n",
    "def Find_number_of_ways(x):\n",
    "    if x <10 or x>60:\n",
    "        return 0\n",
    "    memo={}\n",
    "    def recursive(n,target):\n",
    "        if (n,target) in memo:\n",
    "            return memo[(n,target)]\n",
    "    \n",
    "            \n",
    "        if n == 0 and target == 0:\n",
    "            return 1\n",
    "        \n",
    "        if target<n or target>6*n:\n",
    "            return 0\n",
    "        \n",
    "        \n",
    "        total = 0\n",
    "        for k in range(1,7):\n",
    "            if target >= k:\n",
    "                total += recursive(n-1,target-k)\n",
    "        memo[(n,target)] = total\n",
    "        return total\n",
    "    return recursive(10,x)\n",
    "Number_of_ways=[]\n",
    "for x in range(10,61):\n",
    "    Number_of_ways.append(Find_number_of_ways(x))\n",
    "print(\"当合为{}时产生Number_of_ways的最大值,最大值为{}\".format(Number_of_ways.index(max(Number_of_ways))+10,max(Number_of_ways)))\n"
   ]
  },
  {
   "cell_type": "code",
   "execution_count": 10,
   "id": "942ab031-5bef-424b-a884-2e0e1327dff6",
   "metadata": {},
   "outputs": [
    {
     "data": {
      "image/png": "[encoded data removed]",
      "text/plain": [
       "<Figure size 640x480 with 1 Axes>"
      ]
     },
     "metadata": {},
     "output_type": "display_data"
    },
    {
     "name": "stdout",
     "output_type": "stream",
     "text": [
      "现象：随着 N 增大，结果增长非常快，接近指数级。\n"
     ]
    }
   ],
   "source": [
    "# homewor4\n",
    "import random\n",
    "import matplotlib.pyplot as plt\n",
    "from matplotlib import rcParams\n",
    "\n",
    "rcParams['font.sans-serif'] = ['SimHei']  \n",
    "rcParams['axes.unicode_minus'] = False     \n",
    "\n",
    "# 4.1 \n",
    "def Random_integer(N):\n",
    "    arr = []\n",
    "    for i in range(N):\n",
    "        arr.append(random.randint(0, 10))  \n",
    "    return arr\n",
    "\n",
    "# 4.2 \n",
    "def Sum_averages(arr):\n",
    "    n = len(arr)\n",
    "    if n == 0:\n",
    "        return 0\n",
    "    total = sum(arr)  \n",
    "    # 公式：Sum = (sum(arr)) * (2^n - 1) / n\n",
    "    return total * (2**n - 1) / n\n",
    "\n",
    "# 4.3 \n",
    "def main():\n",
    "    Total_sum_averages = []  \n",
    "    Ns = range(1, 101)       \n",
    "\n",
    "    for N in Ns:\n",
    "        arr = Random_integer(N)          \n",
    "        result = Sum_averages(arr)       \n",
    "        Total_sum_averages.append(result)\n",
    "\n",
    "    plt.plot(Ns, Total_sum_averages)\n",
    "    plt.xlabel(\"N (数组长度)\")\n",
    "    plt.ylabel(\"Total_sum_averages\")\n",
    "    plt.title(\"所有子集平均值总和随 N 的变化\")\n",
    "    plt.grid(True)\n",
    "    plt.show()\n",
    "\n",
    "    print(\"现象：随着 N 增大，结果增长非常快，接近指数级。\")\n",
    "\n",
    "if __name__ == \"__main__\":\n",
    "    main()\n"
   ]
  },
  {
   "cell_type": "code",
   "execution_count": 26,
   "id": "5cee1b3e-727a-4832-bb9f-c9f8b15b4722",
   "metadata": {},
   "outputs": [
    {
     "name": "stdout",
     "output_type": "stream",
     "text": [
      "N=10, M=8, 运行1000次的平均路径数: 0.224\n"
     ]
    }
   ],
   "source": [
    "# homework5\n",
    "import random\n",
    "import numpy as np\n",
    "\n",
    "# 5.1 \n",
    "def create_matrix(N, M):\n",
    "    matrix = np.random.randint(0, 2, size=(N, M))  \n",
    "    matrix[0][0] = 1\n",
    "    matrix[N-1][M-1] = 1\n",
    "    return matrix\n",
    "\n",
    "# 5.2 ）\n",
    "def Count_path(matrix):\n",
    "    N, M = matrix.shape\n",
    "    dp = [[0]*M for _ in range(N)]\n",
    "\n",
    "    if matrix[0][0] == 1:\n",
    "        dp[0][0] = 1\n",
    "\n",
    "    for j in range(1, M):\n",
    "        if matrix[0][j] == 1:\n",
    "            dp[0][j] = dp[0][j-1]\n",
    "\n",
    "    for i in range(1, N):\n",
    "        if matrix[i][0] == 1:\n",
    "            dp[i][0] = dp[i-1][0]\n",
    "\n",
    "    for i in range(1, N):\n",
    "        for j in range(1, M):\n",
    "            if matrix[i][j] == 1:\n",
    "                dp[i][j] = dp[i-1][j] + dp[i][j-1]\n",
    "\n",
    "    return dp[N-1][M-1]\n",
    "\n",
    "# 5.3 \n",
    "def experiment(N=10, M=8, runs=1000):\n",
    "    total_paths = 0\n",
    "    for _ in range(runs):\n",
    "        mat = create_matrix(N, M)\n",
    "        total_paths += Count_path(mat)\n",
    "    mean_paths = total_paths / runs\n",
    "    return mean_paths\n",
    "\n",
    "mean_paths = experiment(10, 8, 1000)\n",
    "print(\"N=10, M=8, 运行1000次的平均路径数:\", mean_paths)\n"
   ]
  },
  {
   "cell_type": "code",
   "execution_count": null,
   "id": "937ecea6-1108-4303-9410-7b77498525ad",
   "metadata": {},
   "outputs": [],
   "source": []
  },
  {
   "cell_type": "code",
   "execution_count": null,
   "id": "652a139c-f96f-4541-81d5-40ddfcabb7df",
   "metadata": {},
   "outputs": [],
   "source": []
  }
 ],
 "metadata": {
  "kernelspec": {
   "display_name": "Python [conda env:base] *",
   "language": "python",
   "name": "conda-base-py"
  },
  "language_info": {
   "codemirror_mode": {
    "name": "ipython",
    "version": 3
   },
   "file_extension": ".py",
   "mimetype": "text/x-python",
   "name": "python",
   "nbconvert_exporter": "python",
   "pygments_lexer": "ipython3",
   "version": "3.13.5"
  }
 },
 "nbformat": 4,
 "nbformat_minor": 5
}
